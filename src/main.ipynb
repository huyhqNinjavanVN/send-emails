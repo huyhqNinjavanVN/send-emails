{
 "cells": [
  {
   "cell_type": "code",
   "execution_count": 318,
   "metadata": {},
   "outputs": [],
   "source": [
    "import smtplib\n",
    "from email import encoders\n",
    "from email.mime.base import MIMEBase\n",
    "from email.mime.multipart import MIMEMultipart\n",
    "from email.mime.text import MIMEText\n",
    "from email.utils import formataddr\n",
    "from email.header import Header\n",
    "import os\n",
    "import json\n",
    "from jinja2 import Template"
   ]
  },
  {
   "cell_type": "code",
   "execution_count": 319,
   "metadata": {},
   "outputs": [],
   "source": [
    "def send_email(subject, body, attachment, account, password, sender_alias, email_alias, recipients):\n",
    "    # Choose multipart/alternative.\n",
    "    message = MIMEMultipart(\"alternative\")\n",
    "\n",
    "    message['Subject'] = subject\n",
    "    message['From'] = formataddr((str(Header(sender_alias, 'utf-8')), email_alias))\n",
    "   #  message['From'] = \"somemail@somedomain.com\"\n",
    "    message['To'] = ', '.join(recipients)\n",
    "    \n",
    "\n",
    "    # Choose plain/html\n",
    "    plain_part = MIMEText(body, 'html')\n",
    "\n",
    "    message.attach(plain_part)\n",
    "    message.attach(attachment)\n",
    "\n",
    "    with smtplib.SMTP_SSL('smtp.gmail.com', 465) as smtp_server:\n",
    "       smtp_server.login(account, password)\n",
    "       smtp_server.sendmail(\n",
    "           account,\n",
    "           recipients,\n",
    "           message.as_string()\n",
    "       )\n",
    "       smtp_server.quit()\n",
    "\n",
    "    print(\"The Email Has Been Sent Successfully!\")"
   ]
  },
  {
   "cell_type": "code",
   "execution_count": 320,
   "metadata": {},
   "outputs": [],
   "source": [
    "root = os.path.abspath(os.path.abspath('__file__' + '/../../'))"
   ]
  },
  {
   "cell_type": "code",
   "execution_count": 321,
   "metadata": {},
   "outputs": [],
   "source": [
    "with open(os.path.join(root, 'conf/conf.json'), mode='r', encoding='utf8') as conf:\n",
    "    conf_ = json.load(conf)"
   ]
  },
  {
   "cell_type": "code",
   "execution_count": 322,
   "metadata": {},
   "outputs": [],
   "source": [
    "account = conf_.get('account').get('email')\n",
    "password = conf_.get('account').get('key')\n",
    "email_alias = conf_.get('email_alias')\n",
    "sender_alias = conf_.get('sender_alias')\n",
    "receiver = conf_.get('receiver')\n",
    "subject = conf_.get('subject')\n",
    "\n",
    "template_file = conf_.get('template')\n",
    "user_name = conf_.get('user_name')\n",
    "\n",
    "attachment_file = conf_.get('attachment')\n",
    "file_name = conf_.get('attachment_alias')"
   ]
  },
  {
   "cell_type": "code",
   "execution_count": 323,
   "metadata": {},
   "outputs": [],
   "source": [
    "with open(os.path.join(root, f'templates/teamplate.html'), mode=\"r\", encoding=\"utf8\") as html_file:\n",
    "    html_content = html_file.read()\n",
    "    template = Template(html_content)\n",
    "    rendered_html = template.render(user_name=user_name)\n",
    "    # body = BeautifulSoup(rendered_html, 'html.parser')"
   ]
  },
  {
   "cell_type": "code",
   "execution_count": 324,
   "metadata": {},
   "outputs": [],
   "source": [
    "\n",
    "with open(os.path.join(root, 'attachment/file_1.txt'), mode='rb') as attachment:\n",
    "    part = MIMEBase(\"application\", \"octet-stream\")\n",
    "    part.set_payload(attachment.read())\n",
    "    encoders.encode_base64(part)\n",
    "    part.add_header(\n",
    "        \"Content-Disposition\",\n",
    "        f\"attachment; filename={file_name}\"\n",
    "    )"
   ]
  },
  {
   "cell_type": "code",
   "execution_count": 325,
   "metadata": {},
   "outputs": [
    {
     "name": "stdout",
     "output_type": "stream",
     "text": [
      "The Email Has Been Sent Successfully!\n"
     ]
    }
   ],
   "source": [
    "send_email(\n",
    "    subject=subject,\n",
    "    body=rendered_html,\n",
    "    attachment=part,\n",
    "    account=account, \n",
    "    password=password, \n",
    "    sender_alias=sender_alias, \n",
    "    email_alias=email_alias, \n",
    "    recipients=receiver\n",
    "    )"
   ]
  },
  {
   "cell_type": "code",
   "execution_count": null,
   "metadata": {},
   "outputs": [],
   "source": []
  }
 ],
 "metadata": {
  "kernelspec": {
   "display_name": "Python 3",
   "language": "python",
   "name": "python3"
  },
  "language_info": {
   "codemirror_mode": {
    "name": "ipython",
    "version": 3
   },
   "file_extension": ".py",
   "mimetype": "text/x-python",
   "name": "python",
   "nbconvert_exporter": "python",
   "pygments_lexer": "ipython3",
   "version": "3.11.4"
  }
 },
 "nbformat": 4,
 "nbformat_minor": 2
}
